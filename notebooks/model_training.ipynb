{
 "cells": [
  {
   "cell_type": "code",
   "execution_count": 1,
   "metadata": {},
   "outputs": [],
   "source": [
    "import pandas as pd\n",
    "import numpy as np\n",
    "import seaborn as sns\n",
    "import matplotlib.pyplot as plt"
   ]
  },
  {
   "cell_type": "code",
   "execution_count": 30,
   "metadata": {},
   "outputs": [
    {
     "data": {
      "text/html": [
       "<div>\n",
       "<style scoped>\n",
       "    .dataframe tbody tr th:only-of-type {\n",
       "        vertical-align: middle;\n",
       "    }\n",
       "\n",
       "    .dataframe tbody tr th {\n",
       "        vertical-align: top;\n",
       "    }\n",
       "\n",
       "    .dataframe thead th {\n",
       "        text-align: right;\n",
       "    }\n",
       "</style>\n",
       "<table border=\"1\" class=\"dataframe\">\n",
       "  <thead>\n",
       "    <tr style=\"text-align: right;\">\n",
       "      <th></th>\n",
       "      <th>carat</th>\n",
       "      <th>cut</th>\n",
       "      <th>color</th>\n",
       "      <th>clarity</th>\n",
       "      <th>depth</th>\n",
       "      <th>table</th>\n",
       "      <th>x</th>\n",
       "      <th>y</th>\n",
       "      <th>z</th>\n",
       "      <th>price</th>\n",
       "    </tr>\n",
       "  </thead>\n",
       "  <tbody>\n",
       "    <tr>\n",
       "      <th>0</th>\n",
       "      <td>1.52</td>\n",
       "      <td>4</td>\n",
       "      <td>3</td>\n",
       "      <td>4</td>\n",
       "      <td>62.2</td>\n",
       "      <td>58.0</td>\n",
       "      <td>7.27</td>\n",
       "      <td>7.33</td>\n",
       "      <td>4.55</td>\n",
       "      <td>13619</td>\n",
       "    </tr>\n",
       "    <tr>\n",
       "      <th>1</th>\n",
       "      <td>2.03</td>\n",
       "      <td>3</td>\n",
       "      <td>7</td>\n",
       "      <td>2</td>\n",
       "      <td>62.0</td>\n",
       "      <td>58.0</td>\n",
       "      <td>8.06</td>\n",
       "      <td>8.12</td>\n",
       "      <td>5.05</td>\n",
       "      <td>13387</td>\n",
       "    </tr>\n",
       "    <tr>\n",
       "      <th>2</th>\n",
       "      <td>0.70</td>\n",
       "      <td>5</td>\n",
       "      <td>4</td>\n",
       "      <td>5</td>\n",
       "      <td>61.2</td>\n",
       "      <td>57.0</td>\n",
       "      <td>5.69</td>\n",
       "      <td>5.73</td>\n",
       "      <td>3.50</td>\n",
       "      <td>2772</td>\n",
       "    </tr>\n",
       "    <tr>\n",
       "      <th>3</th>\n",
       "      <td>0.32</td>\n",
       "      <td>5</td>\n",
       "      <td>4</td>\n",
       "      <td>5</td>\n",
       "      <td>61.6</td>\n",
       "      <td>56.0</td>\n",
       "      <td>4.38</td>\n",
       "      <td>4.41</td>\n",
       "      <td>2.71</td>\n",
       "      <td>666</td>\n",
       "    </tr>\n",
       "    <tr>\n",
       "      <th>4</th>\n",
       "      <td>1.70</td>\n",
       "      <td>4</td>\n",
       "      <td>4</td>\n",
       "      <td>4</td>\n",
       "      <td>62.6</td>\n",
       "      <td>59.0</td>\n",
       "      <td>7.65</td>\n",
       "      <td>7.61</td>\n",
       "      <td>4.77</td>\n",
       "      <td>14453</td>\n",
       "    </tr>\n",
       "  </tbody>\n",
       "</table>\n",
       "</div>"
      ],
      "text/plain": [
       "   carat  cut  color  clarity  depth  table     x     y     z  price\n",
       "0   1.52    4      3        4   62.2   58.0  7.27  7.33  4.55  13619\n",
       "1   2.03    3      7        2   62.0   58.0  8.06  8.12  5.05  13387\n",
       "2   0.70    5      4        5   61.2   57.0  5.69  5.73  3.50   2772\n",
       "3   0.32    5      4        5   61.6   56.0  4.38  4.41  2.71    666\n",
       "4   1.70    4      4        4   62.6   59.0  7.65  7.61  4.77  14453"
      ]
     },
     "execution_count": 30,
     "metadata": {},
     "output_type": "execute_result"
    }
   ],
   "source": [
    "df = pd.read_csv('../artifacts/eda_gemstone.csv')\n",
    "df.head()\n",
    "# df = pd.read_csv('./data/gemstone.csv')\n",
    "# df.drop('id', axis=1, inplace=True)\n",
    "df.head()"
   ]
  },
  {
   "cell_type": "code",
   "execution_count": 31,
   "metadata": {},
   "outputs": [],
   "source": [
    "X = df.drop(labels=['price'],axis=1)\n",
    "Y = df[['price']]"
   ]
  },
  {
   "cell_type": "code",
   "execution_count": 32,
   "metadata": {},
   "outputs": [],
   "source": [
    "categorical = X.select_dtypes(include='object').columns\n",
    "numerical = X.select_dtypes(exclude='object').columns"
   ]
  },
  {
   "cell_type": "code",
   "execution_count": 33,
   "metadata": {},
   "outputs": [],
   "source": [
    "cut_categories = ['Fair', 'Good', 'Very Good','Premium','Ideal']\n",
    "color_categories = ['D', 'E', 'F', 'G', 'H', 'I', 'J']\n",
    "clarity_categories = ['I1','SI2','SI1','VS2','VS1','VVS2','VVS1','IF']"
   ]
  },
  {
   "cell_type": "code",
   "execution_count": 34,
   "metadata": {},
   "outputs": [],
   "source": [
    "from sklearn.impute import SimpleImputer ## HAndling Missing Values\n",
    "from sklearn.preprocessing import StandardScaler # HAndling Feature Scaling\n",
    "from sklearn.preprocessing import OrdinalEncoder,OneHotEncoder # Ordinal Encoding\n",
    "## pipelines\n",
    "from sklearn.pipeline import Pipeline\n",
    "from sklearn.compose import ColumnTransformer"
   ]
  },
  {
   "cell_type": "code",
   "execution_count": 35,
   "metadata": {},
   "outputs": [],
   "source": [
    "# Numerical Pipeline\n",
    "\n",
    "numeric_transformer = StandardScaler()\n",
    "oh_transformer = OneHotEncoder()\n",
    "\n",
    "num_pipe = Pipeline(\n",
    "    steps=[\n",
    "        ('imputer', SimpleImputer(strategy='median')),\n",
    "        ('scaler', StandardScaler())           \n",
    "    ]\n",
    ")\n",
    "\n",
    "preprocessor=ColumnTransformer([\n",
    "('num_pipeline',num_pipe,numerical),\n",
    "])"
   ]
  },
  {
   "cell_type": "code",
   "execution_count": null,
   "metadata": {},
   "outputs": [],
   "source": [
    "cut_map={\"Fair\":1,\"Good\":2,\"Very Good\":3,\"Premium\":4,\"Ideal\":5}\n",
    "color_map = {\"D\":1 ,\"E\":2 ,\"F\":3 , \"G\":4 ,\"H\":5 , \"I\":6, \"J\":7}\n",
    "clarity_map = {\"I1\":1,\"SI2\":2 ,\"SI1\":3 ,\"VS2\":4 , \"VS1\":5 , \"VVS2\":6 , \"VVS1\":7 ,\"IF\":8}"
   ]
  },
  {
   "cell_type": "code",
   "execution_count": 37,
   "metadata": {},
   "outputs": [],
   "source": [
    "## Train test split\n",
    "\n",
    "from sklearn.model_selection import train_test_split\n",
    "\n",
    "X_train,X_test,y_train,y_test=train_test_split(X,Y,test_size=0.30,random_state=30)"
   ]
  },
  {
   "cell_type": "code",
   "execution_count": 38,
   "metadata": {},
   "outputs": [],
   "source": [
    "X_train=pd.DataFrame(preprocessor.fit_transform(X_train),columns=X_train.columns)\n",
    "X_test=pd.DataFrame(preprocessor.transform(X_test),columns=X_test.columns)"
   ]
  },
  {
   "cell_type": "code",
   "execution_count": 39,
   "metadata": {},
   "outputs": [
    {
     "data": {
      "text/html": [
       "<div>\n",
       "<style scoped>\n",
       "    .dataframe tbody tr th:only-of-type {\n",
       "        vertical-align: middle;\n",
       "    }\n",
       "\n",
       "    .dataframe tbody tr th {\n",
       "        vertical-align: top;\n",
       "    }\n",
       "\n",
       "    .dataframe thead th {\n",
       "        text-align: right;\n",
       "    }\n",
       "</style>\n",
       "<table border=\"1\" class=\"dataframe\">\n",
       "  <thead>\n",
       "    <tr style=\"text-align: right;\">\n",
       "      <th></th>\n",
       "      <th>carat</th>\n",
       "      <th>cut</th>\n",
       "      <th>color</th>\n",
       "      <th>clarity</th>\n",
       "      <th>depth</th>\n",
       "      <th>table</th>\n",
       "      <th>x</th>\n",
       "      <th>y</th>\n",
       "      <th>z</th>\n",
       "    </tr>\n",
       "  </thead>\n",
       "  <tbody>\n",
       "    <tr>\n",
       "      <th>0</th>\n",
       "      <td>-0.543215</td>\n",
       "      <td>-0.133859</td>\n",
       "      <td>-1.549661</td>\n",
       "      <td>-1.315382</td>\n",
       "      <td>0.073369</td>\n",
       "      <td>0.402260</td>\n",
       "      <td>-0.438843</td>\n",
       "      <td>-0.482164</td>\n",
       "      <td>-0.445311</td>\n",
       "    </tr>\n",
       "    <tr>\n",
       "      <th>1</th>\n",
       "      <td>0.947760</td>\n",
       "      <td>-1.140082</td>\n",
       "      <td>0.299681</td>\n",
       "      <td>0.017068</td>\n",
       "      <td>0.997890</td>\n",
       "      <td>-1.160093</td>\n",
       "      <td>0.993521</td>\n",
       "      <td>1.031776</td>\n",
       "      <td>1.100588</td>\n",
       "    </tr>\n",
       "    <tr>\n",
       "      <th>2</th>\n",
       "      <td>-0.824123</td>\n",
       "      <td>0.872364</td>\n",
       "      <td>-0.933214</td>\n",
       "      <td>1.349518</td>\n",
       "      <td>0.258273</td>\n",
       "      <td>-0.639309</td>\n",
       "      <td>-0.862246</td>\n",
       "      <td>-0.890111</td>\n",
       "      <td>-0.853661</td>\n",
       "    </tr>\n",
       "    <tr>\n",
       "      <th>3</th>\n",
       "      <td>-0.824123</td>\n",
       "      <td>0.872364</td>\n",
       "      <td>1.532576</td>\n",
       "      <td>0.683293</td>\n",
       "      <td>0.073369</td>\n",
       "      <td>-0.639309</td>\n",
       "      <td>-0.871254</td>\n",
       "      <td>-0.844784</td>\n",
       "      <td>-0.839077</td>\n",
       "    </tr>\n",
       "    <tr>\n",
       "      <th>4</th>\n",
       "      <td>-1.040207</td>\n",
       "      <td>-1.140082</td>\n",
       "      <td>2.149024</td>\n",
       "      <td>0.683293</td>\n",
       "      <td>0.535629</td>\n",
       "      <td>0.402260</td>\n",
       "      <td>-1.240606</td>\n",
       "      <td>-1.243666</td>\n",
       "      <td>-1.203676</td>\n",
       "    </tr>\n",
       "    <tr>\n",
       "      <th>...</th>\n",
       "      <td>...</td>\n",
       "      <td>...</td>\n",
       "      <td>...</td>\n",
       "      <td>...</td>\n",
       "      <td>...</td>\n",
       "      <td>...</td>\n",
       "      <td>...</td>\n",
       "      <td>...</td>\n",
       "      <td>...</td>\n",
       "    </tr>\n",
       "    <tr>\n",
       "      <th>135482</th>\n",
       "      <td>0.277901</td>\n",
       "      <td>-0.133859</td>\n",
       "      <td>0.916129</td>\n",
       "      <td>0.683293</td>\n",
       "      <td>-0.388892</td>\n",
       "      <td>1.964613</td>\n",
       "      <td>0.543092</td>\n",
       "      <td>0.496911</td>\n",
       "      <td>0.473478</td>\n",
       "    </tr>\n",
       "    <tr>\n",
       "      <th>135483</th>\n",
       "      <td>-0.975382</td>\n",
       "      <td>0.872364</td>\n",
       "      <td>1.532576</td>\n",
       "      <td>1.349518</td>\n",
       "      <td>0.535629</td>\n",
       "      <td>-1.160093</td>\n",
       "      <td>-1.114486</td>\n",
       "      <td>-1.116749</td>\n",
       "      <td>-1.072421</td>\n",
       "    </tr>\n",
       "    <tr>\n",
       "      <th>135484</th>\n",
       "      <td>0.645243</td>\n",
       "      <td>0.872364</td>\n",
       "      <td>0.299681</td>\n",
       "      <td>2.015743</td>\n",
       "      <td>-0.019083</td>\n",
       "      <td>-1.160093</td>\n",
       "      <td>0.804341</td>\n",
       "      <td>0.841400</td>\n",
       "      <td>0.823493</td>\n",
       "    </tr>\n",
       "    <tr>\n",
       "      <th>135485</th>\n",
       "      <td>-1.018598</td>\n",
       "      <td>-0.133859</td>\n",
       "      <td>0.299681</td>\n",
       "      <td>0.017068</td>\n",
       "      <td>0.535629</td>\n",
       "      <td>1.443828</td>\n",
       "      <td>-1.267632</td>\n",
       "      <td>-1.243666</td>\n",
       "      <td>-1.218260</td>\n",
       "    </tr>\n",
       "    <tr>\n",
       "      <th>135486</th>\n",
       "      <td>0.666851</td>\n",
       "      <td>0.872364</td>\n",
       "      <td>0.916129</td>\n",
       "      <td>-0.649157</td>\n",
       "      <td>0.165821</td>\n",
       "      <td>-0.639309</td>\n",
       "      <td>0.840375</td>\n",
       "      <td>0.814204</td>\n",
       "      <td>0.838077</td>\n",
       "    </tr>\n",
       "  </tbody>\n",
       "</table>\n",
       "<p>135487 rows × 9 columns</p>\n",
       "</div>"
      ],
      "text/plain": [
       "           carat       cut     color   clarity     depth     table         x  \\\n",
       "0      -0.543215 -0.133859 -1.549661 -1.315382  0.073369  0.402260 -0.438843   \n",
       "1       0.947760 -1.140082  0.299681  0.017068  0.997890 -1.160093  0.993521   \n",
       "2      -0.824123  0.872364 -0.933214  1.349518  0.258273 -0.639309 -0.862246   \n",
       "3      -0.824123  0.872364  1.532576  0.683293  0.073369 -0.639309 -0.871254   \n",
       "4      -1.040207 -1.140082  2.149024  0.683293  0.535629  0.402260 -1.240606   \n",
       "...          ...       ...       ...       ...       ...       ...       ...   \n",
       "135482  0.277901 -0.133859  0.916129  0.683293 -0.388892  1.964613  0.543092   \n",
       "135483 -0.975382  0.872364  1.532576  1.349518  0.535629 -1.160093 -1.114486   \n",
       "135484  0.645243  0.872364  0.299681  2.015743 -0.019083 -1.160093  0.804341   \n",
       "135485 -1.018598 -0.133859  0.299681  0.017068  0.535629  1.443828 -1.267632   \n",
       "135486  0.666851  0.872364  0.916129 -0.649157  0.165821 -0.639309  0.840375   \n",
       "\n",
       "               y         z  \n",
       "0      -0.482164 -0.445311  \n",
       "1       1.031776  1.100588  \n",
       "2      -0.890111 -0.853661  \n",
       "3      -0.844784 -0.839077  \n",
       "4      -1.243666 -1.203676  \n",
       "...          ...       ...  \n",
       "135482  0.496911  0.473478  \n",
       "135483 -1.116749 -1.072421  \n",
       "135484  0.841400  0.823493  \n",
       "135485 -1.243666 -1.218260  \n",
       "135486  0.814204  0.838077  \n",
       "\n",
       "[135487 rows x 9 columns]"
      ]
     },
     "execution_count": 39,
     "metadata": {},
     "output_type": "execute_result"
    }
   ],
   "source": [
    "X_train"
   ]
  },
  {
   "cell_type": "code",
   "execution_count": 40,
   "metadata": {},
   "outputs": [],
   "source": [
    "## Model Training\n",
    "\n",
    "from sklearn.linear_model import LinearRegression,Lasso,Ridge,ElasticNet\n",
    "from sklearn.metrics import r2_score,mean_absolute_error,mean_squared_error"
   ]
  },
  {
   "cell_type": "code",
   "execution_count": 41,
   "metadata": {},
   "outputs": [
    {
     "data": {
      "text/plain": [
       "LinearRegression()"
      ]
     },
     "execution_count": 41,
     "metadata": {},
     "output_type": "execute_result"
    }
   ],
   "source": [
    "regression=LinearRegression()\n",
    "regression.fit(X_train,y_train)"
   ]
  },
  {
   "cell_type": "code",
   "execution_count": 42,
   "metadata": {},
   "outputs": [
    {
     "data": {
      "text/plain": [
       "array([[ 6495.16594914,    74.38970588,  -467.24284938,   652.52467056,\n",
       "          172.67721693,   -63.6630948 ,  -392.73879184,  1352.6183836 ,\n",
       "        -3306.07931642]])"
      ]
     },
     "execution_count": 42,
     "metadata": {},
     "output_type": "execute_result"
    }
   ],
   "source": [
    "regression.coef_"
   ]
  },
  {
   "cell_type": "code",
   "execution_count": 43,
   "metadata": {},
   "outputs": [
    {
     "data": {
      "text/plain": [
       "array([3977.74781344])"
      ]
     },
     "execution_count": 43,
     "metadata": {},
     "output_type": "execute_result"
    }
   ],
   "source": [
    "regression.intercept_"
   ]
  },
  {
   "cell_type": "code",
   "execution_count": 44,
   "metadata": {},
   "outputs": [],
   "source": [
    "import numpy as np\n",
    "def evaluate_model(true, predicted):\n",
    "    mae = mean_absolute_error(true, predicted)\n",
    "    mse = mean_squared_error(true, predicted)\n",
    "    rmse = np.sqrt(mean_squared_error(true, predicted))\n",
    "    r2_square = r2_score(true, predicted)\n",
    "    return mae, rmse, r2_square"
   ]
  },
  {
   "cell_type": "code",
   "execution_count": 45,
   "metadata": {},
   "outputs": [
    {
     "name": "stdout",
     "output_type": "stream",
     "text": [
      "LinearRegression\n",
      "Model Training Performance\n",
      "RMSE: 1002.5666320523034\n",
      "MAE: 669.8919608762216\n",
      "R2 score 93.7766128728445\n",
      "===================================\n",
      "\n",
      "\n",
      "Lasso\n",
      "Model Training Performance\n",
      "RMSE: 1003.647220595244\n",
      "MAE: 671.0630291331818\n",
      "R2 score 93.76319023389532\n",
      "===================================\n",
      "\n",
      "\n",
      "Ridge\n",
      "Model Training Performance\n",
      "RMSE: 1002.563344439937\n",
      "MAE: 669.9262381408552\n",
      "R2 score 93.77665368818839\n",
      "===================================\n",
      "\n",
      "\n",
      "Elasticnet\n",
      "Model Training Performance\n",
      "RMSE: 1524.444646489965\n",
      "MAE: 1060.5733301375362\n",
      "R2 score 85.61123088114182\n",
      "===================================\n",
      "\n",
      "\n"
     ]
    }
   ],
   "source": [
    "## Train multiple models\n",
    "## Model Ecaluation\n",
    "models={\n",
    "    'LinearRegression':LinearRegression(),\n",
    "    'Lasso':Lasso(),\n",
    "    'Ridge':Ridge(),\n",
    "    'Elasticnet':ElasticNet()\n",
    "}\n",
    "trained_model_list=[]\n",
    "model_list=[]\n",
    "r2_list=[]\n",
    "\n",
    "for i in range(len(list(models))):\n",
    "    model=list(models.values())[i]\n",
    "    model.fit(X_train,y_train)\n",
    "\n",
    "    #Make Predictions\n",
    "    y_pred=model.predict(X_test)\n",
    "\n",
    "    mae, rmse, r2_square=evaluate_model(y_test,y_pred)\n",
    "\n",
    "    print(list(models.keys())[i])\n",
    "    model_list.append(list(models.keys())[i])\n",
    "\n",
    "    print('Model Training Performance')\n",
    "    print(\"RMSE:\",rmse)\n",
    "    print(\"MAE:\",mae)\n",
    "    print(\"R2 score\",r2_square*100)\n",
    "\n",
    "    r2_list.append(r2_square)\n",
    "    \n",
    "    print('='*35)\n",
    "    print('\\n')\n"
   ]
  },
  {
   "cell_type": "code",
   "execution_count": 18,
   "metadata": {},
   "outputs": [
    {
     "data": {
      "text/plain": [
       "['LinearRegression', 'Lasso', 'Ridge', 'Elasticnet']"
      ]
     },
     "execution_count": 18,
     "metadata": {},
     "output_type": "execute_result"
    }
   ],
   "source": [
    "model_list"
   ]
  }
 ],
 "metadata": {
  "kernelspec": {
   "display_name": "base",
   "language": "python",
   "name": "python3"
  },
  "language_info": {
   "codemirror_mode": {
    "name": "ipython",
    "version": 3
   },
   "file_extension": ".py",
   "mimetype": "text/x-python",
   "name": "python",
   "nbconvert_exporter": "python",
   "pygments_lexer": "ipython3",
   "version": "3.9.7"
  },
  "orig_nbformat": 4
 },
 "nbformat": 4,
 "nbformat_minor": 2
}
